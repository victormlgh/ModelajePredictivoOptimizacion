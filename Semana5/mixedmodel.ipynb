{
 "cells": [
  {
   "cell_type": "markdown",
   "metadata": {},
   "source": [
    "<h1> La Regresión de datos de panel: teoría e implementación </h1>"
   ]
  },
  {
   "cell_type": "markdown",
   "metadata": {},
   "source": [
    "El modelo de efectos mixtos en paneles de datos es una poderosa herramienta utilizada para analizar datos longitudinales o de panel. Este enfoque combina tanto efectos fijos como efectos aleatorios en un solo marco estadístico. Los efectos fijos permiten controlar variables individuales inobservables que varían constantemente en el tiempo, mientras que los efectos aleatorios capturan la variabilidad no explicada por las variables independientes, permitiendo así modelar la heterogeneidad no observada entre las unidades. El modelo de efectos mixtos es especialmente útil cuando se trabaja con datos en los que las observaciones están correlacionadas dentro de las mismas unidades a lo largo del tiempo, lo que permite analizar mejor las tendencias y los efectos de las variables independientes en un contexto longitudinal."
   ]
  },
  {
   "cell_type": "markdown",
   "metadata": {},
   "source": [
    "<h1>Contexto</h1>"
   ]
  },
  {
   "cell_type": "markdown",
   "metadata": {},
   "source": [
    "Las estrategias de inversión macro cuantitativa se centran en el análisis de datos macroeconómicos y financieros a gran escala para tomar decisiones de inversión. Estas estrategias utilizan modelos matemáticos y algoritmos para identificar patrones y oportunidades en los mercados financieros. Su enfoque se basa en factores macroeconómicos, como tasas de interés, inflación, políticas gubernamentales y otros indicadores económicos, con el objetivo de pronosticar movimientos en los mercados y tomar decisiones de inversión informadas. Estas estrategias son parte de la inversión cuantitativa y buscan aprovechar las tendencias y desequilibrios en los mercados para obtener rendimientos positivos.\n",
    "\n",
    "Históricamente, la información cuantamental ha estado en formatos demasiado desordenados para operar. Se han pasado por alto y olvidado los sellos de tiempo de publicación; la historia se ha comprometido con revisiones; los modelos se aplican con conocimiento previo, y los registros de datos sufren de innumerables observaciones faltantes, errores en los valores, distorsiones no documentadas y quiebres estructurales.\n",
    "\n",
    "En este contexto, la aplicación de modelos de regresión de panel a conjuntos de datos macro-cuantitativos implica el uso de técnicas estadísticas que permiten analizar y entender las relaciones entre múltiples variables macroeconómicas a lo largo del tiempo. \n"
   ]
  },
  {
   "cell_type": "markdown",
   "metadata": {},
   "source": [
    "<h1>Los datos</h1>"
   ]
  },
  {
   "cell_type": "markdown",
   "metadata": {},
   "source": [
    "Vamos a aplicar varios modelo de regresión de panel a conjuntos de datos macro-cuantitativos, en particular, utilizamos una variedad de técnicas de regresión, como la regresión de efectos fijos, la regresión de efectos aleatorios y los modelos lineales de efectos mixtos. El conjunto de datos de ejemplo contiene una pequeña selección de indicadores cuantitativos y fundamentales."
   ]
  },
  {
   "cell_type": "markdown",
   "metadata": {},
   "source": [
    "<h2>Código en Python</h2>"
   ]
  },
  {
   "cell_type": "markdown",
   "metadata": {},
   "source": [
    "Para trabajar en Python debemos importar las librerias que vamos a utilizar para cargar los datos y poder analizarlos."
   ]
  },
  {
   "cell_type": "code",
   "execution_count": 1,
   "metadata": {},
   "outputs": [],
   "source": [
    "import numpy as np\n",
    "import pandas as pd\n",
    "import seaborn as sns\n",
    "import matplotlib as mpl\n",
    "from matplotlib import pyplot as plt\n",
    "import os\n",
    "\n",
    "from linearmodels import PooledOLS, PanelOLS\n",
    "from linearmodels.panel import RandomEffects, compare\n",
    "from linearmodels.system import SUR\n",
    "import statsmodels.api as sm\n",
    "import statsmodels.graphics.tsaplots as tsap\n",
    "import statsmodels.formula.api as smf\n",
    "\n"
   ]
  },
  {
   "cell_type": "markdown",
   "metadata": {},
   "source": [
    "Luego cargamos el conjunto de datos y vemos las primeras filas y columnas del conjunto de datos. Los datos esta disponible en <a href='https://www.kaggle.com/datasets/macrosynergy/fixed-income-returns-and-macro-trends'>Kaggle</a> o se puedes descargar directamente desde el repositorio en <a href='https://raw.githubusercontent.com/victormlgh/ModelajePredictivoOptimizacion/master/Semana5/JPMaQS_Quantamental_Indicators.csv'>Github</a>, como hacemos en el codigo."
   ]
  },
  {
   "cell_type": "code",
   "execution_count": 2,
   "metadata": {},
   "outputs": [
    {
     "name": "stdout",
     "output_type": "stream",
     "text": [
      "(3350271, 8)\n"
     ]
    },
    {
     "data": {
      "text/html": [
       "<div>\n",
       "<style scoped>\n",
       "    .dataframe tbody tr th:only-of-type {\n",
       "        vertical-align: middle;\n",
       "    }\n",
       "\n",
       "    .dataframe tbody tr th {\n",
       "        vertical-align: top;\n",
       "    }\n",
       "\n",
       "    .dataframe thead th {\n",
       "        text-align: right;\n",
       "    }\n",
       "</style>\n",
       "<table border=\"1\" class=\"dataframe\">\n",
       "  <thead>\n",
       "    <tr style=\"text-align: right;\">\n",
       "      <th></th>\n",
       "      <th>Unnamed: 0</th>\n",
       "      <th>real_date</th>\n",
       "      <th>cid</th>\n",
       "      <th>xcat</th>\n",
       "      <th>value</th>\n",
       "      <th>grading</th>\n",
       "      <th>eop_lag</th>\n",
       "      <th>mop_lag</th>\n",
       "    </tr>\n",
       "  </thead>\n",
       "  <tbody>\n",
       "    <tr>\n",
       "      <th>0</th>\n",
       "      <td>0</td>\n",
       "      <td>2000-01-03</td>\n",
       "      <td>AUD</td>\n",
       "      <td>CPIC_SA_P1M1ML12</td>\n",
       "      <td>1.244168</td>\n",
       "      <td>2.0</td>\n",
       "      <td>95.0</td>\n",
       "      <td>292.0</td>\n",
       "    </tr>\n",
       "    <tr>\n",
       "      <th>1</th>\n",
       "      <td>1</td>\n",
       "      <td>2000-01-03</td>\n",
       "      <td>AUD</td>\n",
       "      <td>CPIC_SJA_P3M3ML3AR</td>\n",
       "      <td>3.006383</td>\n",
       "      <td>2.0</td>\n",
       "      <td>95.0</td>\n",
       "      <td>186.0</td>\n",
       "    </tr>\n",
       "    <tr>\n",
       "      <th>2</th>\n",
       "      <td>2</td>\n",
       "      <td>2000-01-03</td>\n",
       "      <td>AUD</td>\n",
       "      <td>CPIC_SJA_P6M6ML6AR</td>\n",
       "      <td>1.428580</td>\n",
       "      <td>2.0</td>\n",
       "      <td>95.0</td>\n",
       "      <td>277.0</td>\n",
       "    </tr>\n",
       "    <tr>\n",
       "      <th>3</th>\n",
       "      <td>3</td>\n",
       "      <td>2000-01-03</td>\n",
       "      <td>AUD</td>\n",
       "      <td>CPIH_SA_P1M1ML12</td>\n",
       "      <td>1.647446</td>\n",
       "      <td>2.0</td>\n",
       "      <td>95.0</td>\n",
       "      <td>292.0</td>\n",
       "    </tr>\n",
       "    <tr>\n",
       "      <th>4</th>\n",
       "      <td>4</td>\n",
       "      <td>2000-01-03</td>\n",
       "      <td>AUD</td>\n",
       "      <td>CPIH_SJA_P3M3ML3AR</td>\n",
       "      <td>3.308241</td>\n",
       "      <td>2.0</td>\n",
       "      <td>95.0</td>\n",
       "      <td>186.0</td>\n",
       "    </tr>\n",
       "  </tbody>\n",
       "</table>\n",
       "</div>"
      ],
      "text/plain": [
       "   Unnamed: 0   real_date  cid                xcat     value  grading  \\\n",
       "0           0  2000-01-03  AUD    CPIC_SA_P1M1ML12  1.244168      2.0   \n",
       "1           1  2000-01-03  AUD  CPIC_SJA_P3M3ML3AR  3.006383      2.0   \n",
       "2           2  2000-01-03  AUD  CPIC_SJA_P6M6ML6AR  1.428580      2.0   \n",
       "3           3  2000-01-03  AUD    CPIH_SA_P1M1ML12  1.647446      2.0   \n",
       "4           4  2000-01-03  AUD  CPIH_SJA_P3M3ML3AR  3.308241      2.0   \n",
       "\n",
       "   eop_lag  mop_lag  \n",
       "0     95.0    292.0  \n",
       "1     95.0    186.0  \n",
       "2     95.0    277.0  \n",
       "3     95.0    292.0  \n",
       "4     95.0    186.0  "
      ]
     },
     "execution_count": 2,
     "metadata": {},
     "output_type": "execute_result"
    }
   ],
   "source": [
    "df = pd.read_csv('JPMaQS_Quantamental_Indicators.csv')\n",
    "print(df.shape)\n",
    "df.head()"
   ]
  },
  {
   "cell_type": "code",
   "execution_count": 3,
   "metadata": {},
   "outputs": [
    {
     "data": {
      "text/plain": [
       "Index(['real_date', 'cid', 'xcat', 'value', 'grading', 'eop_lag', 'mop_lag'], dtype='object')"
      ]
     },
     "execution_count": 3,
     "metadata": {},
     "output_type": "execute_result"
    }
   ],
   "source": [
    "df = df.drop(['Unnamed: 0'],axis=1)\n",
    "df.columns"
   ]
  },
  {
   "cell_type": "markdown",
   "metadata": {},
   "source": [
    "Es importante señalar que, según la descripción, las variables en este conjunto de datos son numéricas y ya están categorizadas. La variable de eop_lag se refiriere a los días transcurridos desde el final del período de observación. La variable de  mop_lag se refiere al número de días transcurridos desde el período medio de observación. La variable de grading denotando un grado de la observación, dando una métrica de la calidad de la información en tiempo real. Finalmente, La variable de value son los últimos valores disponibles para el indicador."
   ]
  },
  {
   "cell_type": "code",
   "execution_count": 4,
   "metadata": {},
   "outputs": [
    {
     "data": {
      "text/html": [
       "<div>\n",
       "<style scoped>\n",
       "    .dataframe tbody tr th:only-of-type {\n",
       "        vertical-align: middle;\n",
       "    }\n",
       "\n",
       "    .dataframe tbody tr th {\n",
       "        vertical-align: top;\n",
       "    }\n",
       "\n",
       "    .dataframe thead th {\n",
       "        text-align: right;\n",
       "    }\n",
       "</style>\n",
       "<table border=\"1\" class=\"dataframe\">\n",
       "  <thead>\n",
       "    <tr style=\"text-align: right;\">\n",
       "      <th></th>\n",
       "      <th>value</th>\n",
       "      <th>grading</th>\n",
       "      <th>eop_lag</th>\n",
       "      <th>mop_lag</th>\n",
       "    </tr>\n",
       "  </thead>\n",
       "  <tbody>\n",
       "    <tr>\n",
       "      <th>count</th>\n",
       "      <td>3.350271e+06</td>\n",
       "      <td>3.350271e+06</td>\n",
       "      <td>3.350271e+06</td>\n",
       "      <td>3.350271e+06</td>\n",
       "    </tr>\n",
       "    <tr>\n",
       "      <th>mean</th>\n",
       "      <td>1.975943e+00</td>\n",
       "      <td>1.368584e+00</td>\n",
       "      <td>1.716700e+01</td>\n",
       "      <td>1.414104e+02</td>\n",
       "    </tr>\n",
       "    <tr>\n",
       "      <th>std</th>\n",
       "      <td>4.343438e+00</td>\n",
       "      <td>5.309472e-01</td>\n",
       "      <td>2.815458e+01</td>\n",
       "      <td>2.456948e+02</td>\n",
       "    </tr>\n",
       "    <tr>\n",
       "      <th>min</th>\n",
       "      <td>-5.774859e+01</td>\n",
       "      <td>1.000000e+00</td>\n",
       "      <td>-3.000000e+01</td>\n",
       "      <td>-1.500000e+01</td>\n",
       "    </tr>\n",
       "    <tr>\n",
       "      <th>25%</th>\n",
       "      <td>0.000000e+00</td>\n",
       "      <td>1.000000e+00</td>\n",
       "      <td>0.000000e+00</td>\n",
       "      <td>0.000000e+00</td>\n",
       "    </tr>\n",
       "    <tr>\n",
       "      <th>50%</th>\n",
       "      <td>7.632448e-01</td>\n",
       "      <td>1.000000e+00</td>\n",
       "      <td>0.000000e+00</td>\n",
       "      <td>3.000000e+01</td>\n",
       "    </tr>\n",
       "    <tr>\n",
       "      <th>75%</th>\n",
       "      <td>2.852243e+00</td>\n",
       "      <td>2.000000e+00</td>\n",
       "      <td>3.100000e+01</td>\n",
       "      <td>2.250000e+02</td>\n",
       "    </tr>\n",
       "    <tr>\n",
       "      <th>max</th>\n",
       "      <td>3.940715e+02</td>\n",
       "      <td>3.000000e+00</td>\n",
       "      <td>3.550000e+02</td>\n",
       "      <td>1.450000e+03</td>\n",
       "    </tr>\n",
       "  </tbody>\n",
       "</table>\n",
       "</div>"
      ],
      "text/plain": [
       "              value       grading       eop_lag       mop_lag\n",
       "count  3.350271e+06  3.350271e+06  3.350271e+06  3.350271e+06\n",
       "mean   1.975943e+00  1.368584e+00  1.716700e+01  1.414104e+02\n",
       "std    4.343438e+00  5.309472e-01  2.815458e+01  2.456948e+02\n",
       "min   -5.774859e+01  1.000000e+00 -3.000000e+01 -1.500000e+01\n",
       "25%    0.000000e+00  1.000000e+00  0.000000e+00  0.000000e+00\n",
       "50%    7.632448e-01  1.000000e+00  0.000000e+00  3.000000e+01\n",
       "75%    2.852243e+00  2.000000e+00  3.100000e+01  2.250000e+02\n",
       "max    3.940715e+02  3.000000e+00  3.550000e+02  1.450000e+03"
      ]
     },
     "execution_count": 4,
     "metadata": {},
     "output_type": "execute_result"
    }
   ],
   "source": [
    "df.describe()\n"
   ]
  },
  {
   "cell_type": "markdown",
   "metadata": {},
   "source": [
    "La descripción de cada categoría está disponible en <a href='https://www.kaggle.com/datasets/macrosynergy/fixed-income-returns-and-macro-trends'>Kaggle</a>."
   ]
  },
  {
   "cell_type": "markdown",
   "metadata": {},
   "source": [
    "<h1>Limpieza de datos</h1>"
   ]
  },
  {
   "cell_type": "markdown",
   "metadata": {},
   "source": [
    "Extraemos un submarco de datos que vamos a utilizar para la mayoría de los modelos. La elección de variables refleja la simple idea de que la inflación debería tener un impacto negativo en los rendimientos de duración del próximo período.\n",
    "\n",
    "CPIC_SJA_P6M6ML6AR - Última tendencia de precios al consumidor subyacente ajustada\n",
    "\n",
    "DU02YXR_VT10 - Rendimiento de la posición del receptor fijo, % del capital de riesgo de la posición escalado al objetivo de volatilidad del 10 % (anualizado), asumiendo una rotación mensual: vencimiento de 2 años"
   ]
  },
  {
   "cell_type": "code",
   "execution_count": 5,
   "metadata": {},
   "outputs": [],
   "source": [
    "df[\"real_date\"] =pd.to_datetime(df[\"real_date\"])\n",
    "\n",
    "# Prepararamos los filtros\n",
    "\n",
    "cids = [\"EUR\", \"JPY\", \"USD\"]  # Solo vamos a utlizar el Euro, Yen y Dolar US\n",
    "for_feats = [\"CPIC_SJA_P6M6ML6AR\"]  # categorías para el cálculo de características - Última tendencia de precios al consumidor subyacente ajustada\n",
    "targs = [\"DU05YXR_VT10\"]  # rentabilidad objetivo\n",
    "start_date = \"2000-01-01\"  # earliest sample date - Rendimiento de la posición del receptor fijo\n",
    "\n",
    "# Create filters\n",
    "\n",
    "filt1 = df[\"xcat\"].isin(for_feats)  \n",
    "filt2 = df[\"real_date\"] >= pd.to_datetime(start_date)  \n",
    "filt3 = df[\"cid\"].isin(cids) \n",
    "filt4 = df[\"xcat\"].isin(targs)\n",
    "\n",
    "# Apply filters\n",
    "\n",
    "dfx_feats = df[filt1 & filt2 & filt3]  # data frame para variables de características\n",
    "dfx_target = df[filt4 & filt2 & filt3]  # data frame para variables objetivo\n"
   ]
  },
  {
   "cell_type": "code",
   "execution_count": 6,
   "metadata": {},
   "outputs": [
    {
     "name": "stdout",
     "output_type": "stream",
     "text": [
      "(17163, 7)\n",
      "(18522, 7)\n"
     ]
    }
   ],
   "source": [
    "print(dfx_feats.shape)\n",
    "print(dfx_target.shape)"
   ]
  },
  {
   "cell_type": "markdown",
   "metadata": {},
   "source": [
    "Ahora pasamos a reducimos la frecuencia de la serie temporal y retrasamos las características. Este último permite alinear características pasadas con objetivos presentes, es decir, evaluar el poder predictivo de los paneles de características. Los pasos a seguir son:\n",
    "<ul>\n",
    "<li>Llevamos una conversión de frecuencia de características y objetivos a medias y sumas trimestrales.</li>\n",
    "<li>Funciones de retraso (valores pasados asignados a la fecha de hoy)</li>\n",
    "<li>Pivote funciones y marcos de datos de destino a formatos de panel de series temporales amplias\n",
    "</li>\n",
    "<li>Fusionar para unir características/marco de datos de objetivos\n",
    "</li>\n",
    "</ul>"
   ]
  },
  {
   "cell_type": "code",
   "execution_count": 7,
   "metadata": {},
   "outputs": [
    {
     "data": {
      "text/html": [
       "<div>\n",
       "<style scoped>\n",
       "    .dataframe tbody tr th:only-of-type {\n",
       "        vertical-align: middle;\n",
       "    }\n",
       "\n",
       "    .dataframe tbody tr th {\n",
       "        vertical-align: top;\n",
       "    }\n",
       "\n",
       "    .dataframe thead th {\n",
       "        text-align: right;\n",
       "    }\n",
       "</style>\n",
       "<table border=\"1\" class=\"dataframe\">\n",
       "  <thead>\n",
       "    <tr style=\"text-align: right;\">\n",
       "      <th></th>\n",
       "      <th>xcat</th>\n",
       "      <th>DU05YXR_VT10</th>\n",
       "      <th>CPIC_SJA_P6M6ML6AR</th>\n",
       "    </tr>\n",
       "    <tr>\n",
       "      <th>cid</th>\n",
       "      <th>real_date</th>\n",
       "      <th></th>\n",
       "      <th></th>\n",
       "    </tr>\n",
       "  </thead>\n",
       "  <tbody>\n",
       "    <tr>\n",
       "      <th rowspan=\"5\" valign=\"top\">EUR</th>\n",
       "      <th>2000-02-29</th>\n",
       "      <td>0.752012</td>\n",
       "      <td>1.093003</td>\n",
       "    </tr>\n",
       "    <tr>\n",
       "      <th>2000-03-31</th>\n",
       "      <td>2.367384</td>\n",
       "      <td>1.090592</td>\n",
       "    </tr>\n",
       "    <tr>\n",
       "      <th>2000-04-30</th>\n",
       "      <td>-1.375869</td>\n",
       "      <td>1.013280</td>\n",
       "    </tr>\n",
       "    <tr>\n",
       "      <th>2000-05-31</th>\n",
       "      <td>-3.431015</td>\n",
       "      <td>0.975730</td>\n",
       "    </tr>\n",
       "    <tr>\n",
       "      <th>2000-06-30</th>\n",
       "      <td>0.642949</td>\n",
       "      <td>0.968124</td>\n",
       "    </tr>\n",
       "  </tbody>\n",
       "</table>\n",
       "</div>"
      ],
      "text/plain": [
       "xcat            DU05YXR_VT10  CPIC_SJA_P6M6ML6AR\n",
       "cid real_date                                   \n",
       "EUR 2000-02-29      0.752012            1.093003\n",
       "    2000-03-31      2.367384            1.090592\n",
       "    2000-04-30     -1.375869            1.013280\n",
       "    2000-05-31     -3.431015            0.975730\n",
       "    2000-06-30      0.642949            0.968124"
      ]
     },
     "metadata": {},
     "output_type": "display_data"
    }
   ],
   "source": [
    "\n",
    "dfqx_feats = (dfx_feats.groupby([\"cid\", \"xcat\"]).resample(\"M\", on=\"real_date\").mean()[\"value\"]\n",
    ")\n",
    "dfqx_feats = dfqx_feats.reset_index()\n",
    "dfqx_feats = dfqx_feats.dropna()\n",
    "\n",
    "dfqx_target = (dfx_target.groupby([\"cid\", \"xcat\"]).resample(\"M\", on=\"real_date\").sum()[\"value\"])\n",
    "dfqx_target = dfqx_target.reset_index().dropna()\n",
    "\n",
    "\n",
    "dfqx_feats[\"value_lag\"] = dfqx_feats.groupby([\"cid\", \"xcat\"])[\"value\"].shift(1)\n",
    "dfqx_feats = dfqx_feats.dropna()\n",
    "\n",
    "dfqx_feats = dfqx_feats.pivot(index=[\"cid\", \"real_date\"], columns=\"xcat\", values=\"value_lag\")\n",
    "\n",
    "dfqx_target = dfqx_target.pivot(index=[\"cid\", \"real_date\"], columns=\"xcat\", values=\"value\").dropna()\n",
    "\n",
    "dfx_pan = pd.merge(\n",
    "    dfqx_target.reset_index(),\n",
    "    dfqx_feats.reset_index(),\n",
    "    on=[\"cid\", \"real_date\"],\n",
    "    how=\"outer\",\n",
    ").set_index([\"cid\", \"real_date\"])\n",
    "\n",
    "dfx_pan = dfx_pan[(dfx_pan != 0).all(1)]\n",
    "dfx_pan = dfx_pan.dropna()\n",
    "\n",
    "display(dfx_pan.head(5))"
   ]
  },
  {
   "cell_type": "markdown",
   "metadata": {},
   "source": [
    "<h1>Regresión agrupada</h1>"
   ]
  },
  {
   "cell_type": "markdown",
   "metadata": {},
   "source": [
    "La forma más sencilla de analizar datos de panel es simplemente agrupar las observaciones de todas las secciones transversales y períodos de tiempo en conjuntos de datos unidimensionales y luego ejecutar una regresión lineal MCO, como se haría con conjuntos de datos unidimensionales. Este método efectivamente ignora las dimensiones del conjunto de datos para formular el modelo subyacente.\n",
    "\n",
    "Nos basamos en la libreria de linearmodels para realizar un OLS en los datos."
   ]
  },
  {
   "cell_type": "code",
   "execution_count": 8,
   "metadata": {},
   "outputs": [
    {
     "name": "stdout",
     "output_type": "stream",
     "text": [
      "                          PooledOLS Estimation Summary                          \n",
      "================================================================================\n",
      "Dep. Variable:           DU05YXR_VT10   R-squared:                        0.0057\n",
      "Estimator:                  PooledOLS   R-squared (Between):             -1.7385\n",
      "No. Observations:                 788   R-squared (Within):               0.0064\n",
      "Date:                Mon, Oct 16 2023   R-squared (Overall):              0.0057\n",
      "Time:                        10:04:35   Log-likelihood                   -2073.4\n",
      "Cov. Estimator:             Clustered                                           \n",
      "                                        F-statistic:                      4.4729\n",
      "Entities:                           3   P-value                           0.0347\n",
      "Avg Obs:                       262.67   Distribution:                   F(1,786)\n",
      "Min Obs:                       222.00                                           \n",
      "Max Obs:                       283.00   F-statistic (robust):             5.1025\n",
      "                                        P-value                           0.0242\n",
      "Time periods:                     284   Distribution:                   F(1,786)\n",
      "Avg Obs:                       2.7746                                           \n",
      "Min Obs:                       0.0000                                           \n",
      "Max Obs:                       3.0000                                           \n",
      "                                                                                \n",
      "                                 Parameter Estimates                                  \n",
      "======================================================================================\n",
      "                    Parameter  Std. Err.     T-stat    P-value    Lower CI    Upper CI\n",
      "--------------------------------------------------------------------------------------\n",
      "const                  0.5541     0.1712     3.2359     0.0013      0.2180      0.8903\n",
      "CPIC_SJA_P6M6ML6AR    -0.2119     0.0938    -2.2589     0.0242     -0.3960     -0.0278\n",
      "======================================================================================\n"
     ]
    }
   ],
   "source": [
    "X = sm.add_constant(dfx_pan[\"CPIC_SJA_P6M6ML6AR\"])\n",
    "lm_pooled = PooledOLS(dfx_pan.DU05YXR_VT10, X).fit(cov_type=\"clustered\")\n",
    "print(lm_pooled)"
   ]
  },
  {
   "cell_type": "markdown",
   "metadata": {},
   "source": [
    "Primero, comprobamos la importancia de las tendencias básicas del IPC, medidas como cambio porcentual en los últimos 6 meses frente a los 6 meses anteriores, estacionalmente y con ajustes bruscos."
   ]
  },
  {
   "cell_type": "code",
   "execution_count": 9,
   "metadata": {},
   "outputs": [
    {
     "name": "stderr",
     "output_type": "stream",
     "text": [
      "/Library/Frameworks/Python.framework/Versions/3.7/lib/python3.7/site-packages/ipykernel_launcher.py:36: FutureWarning: Passing `palette` without assigning `hue` is deprecated.\n"
     ]
    },
    {
     "data": {
      "image/png": "[encoded data removed]",
      "text/plain": [
       "<Figure size 432x288 with 4 Axes>"
      ]
     },
     "metadata": {
      "needs_background": "light"
     },
     "output_type": "display_data"
    }
   ],
   "source": [
    "sns.set(rc={\"figure.figsize\": (15, 8)})\n",
    "fig, ([ax1, ax2], [ax3, ax4]) = plt.subplots(2, 2)\n",
    "\n",
    "\n",
    "sm.graphics.qqplot(lm_pooled.resids, line=\"45\", fit=True, ax=ax1)\n",
    "ax1.set_title(\"QQ plot\")\n",
    "top = ax1.get_ylim()[1] * 0.75\n",
    "\n",
    "\n",
    "ax2.set_title(\"Residuos\")\n",
    "ax2.set_xlim((-3,8))\n",
    "sns.residplot(\n",
    "    x=\"CPIC_SJA_P6M6ML6AR\",\n",
    "    y=\"DU05YXR_VT10\",\n",
    "    data=dfx_pan,\n",
    "    lowess=True,\n",
    "    line_kws=dict(color=\"r\"), color = \"darkseagreen\", ax=ax2\n",
    "    )\n",
    "\n",
    "ax3.set_title(\"Residuos del OLS\")\n",
    "ax3.set_ylabel(\"Residuos (y - mu)\")\n",
    "\n",
    "ax3.scatter(\n",
    "    dfx_pan.DU05YXR_VT10,\n",
    "    lm_pooled.resids,\n",
    "    s=4, \n",
    "    c=\"purple\",\n",
    "    label=\"Error de los Residuos\",\n",
    ") \n",
    "\n",
    "\n",
    "\n",
    "dfx_pan[\"cid_dummy\"] = dfx_pan.index.get_level_values(0).values\n",
    "\n",
    "sns.boxplot(x=\"cid_dummy\", y=lm_pooled.resids, data=dfx_pan)\n",
    "g = sns.stripplot(x=\"cid_dummy\", y=lm_pooled.resids, data=dfx_pan, palette=\"bright\", ax=ax4) \n",
    "ax4.set_title(\"Residuos por moneda\")\n",
    "\n",
    "\n",
    "fig.tight_layout()\n",
    "\n",
    "plt.show()"
   ]
  },
  {
   "cell_type": "markdown",
   "metadata": {},
   "source": [
    "Podemos comprobar que una relación se mantiene de forma similar entre las secciones."
   ]
  },
  {
   "cell_type": "code",
   "execution_count": 10,
   "metadata": {},
   "outputs": [
    {
     "name": "stderr",
     "output_type": "stream",
     "text": [
      "/Library/Frameworks/Python.framework/Versions/3.7/lib/python3.7/site-packages/seaborn/regression.py:582: UserWarning: sharex is deprecated from the `lmplot` function signature. Please update your code to pass it using `facet_kws`.\n",
      "  warnings.warn(msg, UserWarning)\n",
      "/Library/Frameworks/Python.framework/Versions/3.7/lib/python3.7/site-packages/seaborn/regression.py:582: UserWarning: sharey is deprecated from the `lmplot` function signature. Please update your code to pass it using `facet_kws`.\n",
      "  warnings.warn(msg, UserWarning)\n"
     ]
    },
    {
     "data": {
      "image/png": "[encoded data removed]",
      "text/plain": [
       "<Figure size 1080x180 with 3 Axes>"
      ]
     },
     "metadata": {
      "needs_background": "light"
     },
     "output_type": "display_data"
    }
   ],
   "source": [
    "grid = sns.lmplot(\n",
    "    x=\"CPIC_SJA_P6M6ML6AR\",\n",
    "    y=\"DU05YXR_VT10\",\n",
    "    col=\"cid_dummy\",\n",
    "    sharex=False,\n",
    "    sharey=True,\n",
    "    aspect = 2,\n",
    "    \n",
    "    col_wrap=3,\n",
    "    data=dfx_pan,\n",
    "    height=2.5,\n",
    ")\n",
    "fig.tight_layout()"
   ]
  },
  {
   "cell_type": "markdown",
   "metadata": {},
   "source": [
    "<h1>Regresión de efectos fijos</h1>"
   ]
  },
  {
   "cell_type": "markdown",
   "metadata": {},
   "source": [
    "Los efectos fijos se pueden estimar con el paquete statsmodels agregando variables ficticias específicas de una sección transversal o de un período al método PooledOLS. La siguiente estimación supone que cada zona monetaria suma o resta una prima fija al rendimiento objetivo."
   ]
  },
  {
   "cell_type": "code",
   "execution_count": 11,
   "metadata": {},
   "outputs": [
    {
     "name": "stdout",
     "output_type": "stream",
     "text": [
      "                          PooledOLS Estimation Summary                          \n",
      "================================================================================\n",
      "Dep. Variable:           DU05YXR_VT10   R-squared:                        0.0072\n",
      "Estimator:                  PooledOLS   R-squared (Between):              1.0000\n",
      "No. Observations:                 788   R-squared (Within):               0.0067\n",
      "Date:                Mon, Oct 16 2023   R-squared (Overall):              0.0072\n",
      "Time:                        10:04:37   Log-likelihood                   -2072.8\n",
      "Cov. Estimator:             Clustered                                           \n",
      "                                        F-statistic:                      1.8960\n",
      "Entities:                           3   P-value                           0.1288\n",
      "Avg Obs:                       262.67   Distribution:                   F(3,784)\n",
      "Min Obs:                       222.00                                           \n",
      "Max Obs:                       283.00   F-statistic (robust):             2.0420\n",
      "                                        P-value                           0.1066\n",
      "Time periods:                     284   Distribution:                   F(3,784)\n",
      "Avg Obs:                       2.7746                                           \n",
      "Min Obs:                       0.0000                                           \n",
      "Max Obs:                       3.0000                                           \n",
      "                                                                                \n",
      "                                 Parameter Estimates                                  \n",
      "======================================================================================\n",
      "                    Parameter  Std. Err.     T-stat    P-value    Lower CI    Upper CI\n",
      "--------------------------------------------------------------------------------------\n",
      "const                  0.7568     0.2725     2.7772     0.0056      0.2219      1.2917\n",
      "CPIC_SJA_P6M6ML6AR    -0.2657     0.1115    -2.3825     0.0174     -0.4846     -0.0468\n",
      "cid_dummy.JPY         -0.3592     0.3260    -1.1018     0.2709     -0.9992      0.2808\n",
      "cid_dummy.USD         -0.0821     0.2938    -0.2796     0.7799     -0.6588      0.4945\n",
      "======================================================================================\n"
     ]
    }
   ],
   "source": [
    "X = [\n",
    "    \"CPIC_SJA_P6M6ML6AR\",\n",
    "   \"cid_dummy\",\n",
    "]\n",
    "X = sm.add_constant(dfx_pan[X])\n",
    "\n",
    "sm_fe_cs = PooledOLS(dfx_pan.DU05YXR_VT10, X).fit(cov_type=\"clustered\")\n",
    "\n",
    "print(sm_fe_cs)"
   ]
  },
  {
   "cell_type": "markdown",
   "metadata": {},
   "source": [
    "La importancia de los efectos fijos está indicada por los valores de t y los valores p de los coeficientes ficticios. Agregar efectos fijos para la sección transversal solo aumentó el valor absoluto y fortaleció la significancia de la variable independiente elegida, aunque ninguno de los efectos fijos es significativo al nivel del 5%.\n",
    "\n",
    "Al analizar los efectos fijos entre diferentes períodos, especialmente en series temporales largas, la regresión de panel de efectos fijos puede volverse complicada y difícil de interpretar si se consideran todos los efectos de cada período. Por lo tanto, en este caso, se opta por utilizar años calendario como una variable ficticia adicional, manteniendo también el país como variable ficticia en el análisis."
   ]
  },
  {
   "cell_type": "code",
   "execution_count": 12,
   "metadata": {},
   "outputs": [
    {
     "name": "stdout",
     "output_type": "stream",
     "text": [
      "                          PooledOLS Estimation Summary                          \n",
      "================================================================================\n",
      "Dep. Variable:           DU05YXR_VT10   R-squared:                        0.0883\n",
      "Estimator:                  PooledOLS   R-squared (Between):              1.0000\n",
      "No. Observations:                 788   R-squared (Within):               0.0878\n",
      "Date:                Mon, Oct 16 2023   R-squared (Overall):              0.0883\n",
      "Time:                        10:04:37   Log-likelihood                   -2039.2\n",
      "Cov. Estimator:             Clustered                                           \n",
      "                                        F-statistic:                      2.8349\n",
      "Entities:                           3   P-value                           0.0000\n",
      "Avg Obs:                       262.67   Distribution:                  F(26,761)\n",
      "Min Obs:                       222.00                                           \n",
      "Max Obs:                       283.00   F-statistic (robust):             2.9577\n",
      "                                        P-value                           0.0000\n",
      "Time periods:                     284   Distribution:                  F(26,761)\n",
      "Avg Obs:                       2.7746                                           \n",
      "Min Obs:                       0.0000                                           \n",
      "Max Obs:                       3.0000                                           \n",
      "                                                                                \n",
      "                                 Parameter Estimates                                  \n",
      "======================================================================================\n",
      "                    Parameter  Std. Err.     T-stat    P-value    Lower CI    Upper CI\n",
      "--------------------------------------------------------------------------------------\n",
      "const                  1.7214     0.7616     2.2603     0.0241      0.2264      3.2165\n",
      "CPIC_SJA_P6M6ML6AR     0.1340     0.1889     0.7093     0.4783     -0.2368      0.5047\n",
      "cid_dummy.JPY          0.2861     0.3687     0.7760     0.4380     -0.4377      1.0099\n",
      "cid_dummy.USD         -0.2347     0.2896    -0.8105     0.4179     -0.8031      0.3337\n",
      "year.2001             -0.7309     1.0010    -0.7302     0.4655     -2.6960      1.2341\n",
      "year.2002             -0.1714     0.9862    -0.1738     0.8621     -2.1073      1.7645\n",
      "year.2003             -1.5653     1.0232    -1.5298     0.1265     -3.5740      0.4434\n",
      "year.2004             -1.2977     0.9267    -1.4004     0.1618     -3.1168      0.5214\n",
      "year.2005             -2.1003     0.9043    -2.3226     0.0205     -3.8756     -0.3251\n",
      "year.2006             -2.5334     0.8622    -2.9382     0.0034     -4.2261     -0.8408\n",
      "year.2007             -1.9071     0.8911    -2.1402     0.0327     -3.6565     -0.1578\n",
      "year.2008             -1.2893     0.9240    -1.3953     0.1633     -3.1032      0.5246\n",
      "year.2009             -1.5043     0.8310    -1.8103     0.0706     -3.1356      0.1270\n",
      "year.2010             -0.5590     0.9000    -0.6211     0.5347     -2.3257      1.2077\n",
      "year.2011             -0.9026     0.8178    -1.1038     0.2700     -2.5079      0.7027\n",
      "year.2012             -0.7064     0.8020    -0.8808     0.3787     -2.2808      0.8680\n",
      "year.2013             -3.0210     1.0400    -2.9049     0.0038     -5.0626     -0.9795\n",
      "year.2014             -0.5623     0.8282    -0.6790     0.4974     -2.1881      1.0635\n",
      "year.2015             -1.5774     0.8223    -1.9182     0.0555     -3.1916      0.0369\n",
      "year.2016             -1.6236     1.0317    -1.5738     0.1160     -3.6489      0.4016\n",
      "year.2017             -2.2986     0.8446    -2.7215     0.0066     -3.9566     -0.6406\n",
      "year.2018             -1.3990     0.9380    -1.4915     0.1362     -3.2404      0.4424\n",
      "year.2019             -0.6422     0.9664    -0.6645     0.5066     -2.5393      1.2550\n",
      "year.2020             -1.1054     0.9026    -1.2247     0.2211     -2.8772      0.6665\n",
      "year.2021             -3.3166     0.9889    -3.3537     0.0008     -5.2580     -1.3752\n",
      "year.2022             -4.5730     0.9841    -4.6467     0.0000     -6.5049     -2.6410\n",
      "year.2023             -2.3616     1.1901    -1.9843     0.0476     -4.6980     -0.0253\n",
      "======================================================================================\n"
     ]
    }
   ],
   "source": [
    "dfx_pan[\"year\"] = dfx_pan.index.get_level_values(1).year.astype(\"category\")\n",
    "dfx_pan[\"date\"] = dfx_pan.index.get_level_values(1).astype(\"category\")\n",
    "\n",
    "X = [\n",
    "    \"CPIC_SJA_P6M6ML6AR\",\n",
    "    \"cid_dummy\",\n",
    "\"year\"\n",
    "]\n",
    "X = sm.add_constant(dfx_pan[X])\n",
    "\n",
    "sm_fe_time = PooledOLS(dfx_pan.DU05YXR_VT10, X).fit(cov_type=\"clustered\")\n",
    "\n",
    "print(sm_fe_time)"
   ]
  },
  {
   "cell_type": "markdown",
   "metadata": {},
   "source": [
    "<h1>Regresión de efectos aleatorios</h1>"
   ]
  },
  {
   "cell_type": "markdown",
   "metadata": {},
   "source": [
    "Una forma de realizar una regresión de panel de efectos aleatorios es usando RandomEffects del paquete linearmodels. "
   ]
  },
  {
   "cell_type": "code",
   "execution_count": 13,
   "metadata": {},
   "outputs": [
    {
     "name": "stdout",
     "output_type": "stream",
     "text": [
      "                        RandomEffects Estimation Summary                        \n",
      "================================================================================\n",
      "Dep. Variable:           DU05YXR_VT10   R-squared:                        0.0057\n",
      "Estimator:              RandomEffects   R-squared (Between):             -1.7385\n",
      "No. Observations:                 788   R-squared (Within):               0.0064\n",
      "Date:                Mon, Oct 16 2023   R-squared (Overall):              0.0057\n",
      "Time:                        10:04:37   Log-likelihood                   -2073.4\n",
      "Cov. Estimator:             Clustered                                           \n",
      "                                        F-statistic:                      4.4729\n",
      "Entities:                           3   P-value                           0.0347\n",
      "Avg Obs:                       262.67   Distribution:                   F(1,786)\n",
      "Min Obs:                       222.00                                           \n",
      "Max Obs:                       283.00   F-statistic (robust):             5.1025\n",
      "                                        P-value                           0.0242\n",
      "Time periods:                     284   Distribution:                   F(1,786)\n",
      "Avg Obs:                       2.7746                                           \n",
      "Min Obs:                       0.0000                                           \n",
      "Max Obs:                       3.0000                                           \n",
      "                                                                                \n",
      "                                 Parameter Estimates                                  \n",
      "======================================================================================\n",
      "                    Parameter  Std. Err.     T-stat    P-value    Lower CI    Upper CI\n",
      "--------------------------------------------------------------------------------------\n",
      "const                  0.5541     0.1712     3.2359     0.0013      0.2180      0.8903\n",
      "CPIC_SJA_P6M6ML6AR    -0.2119     0.0938    -2.2589     0.0242     -0.3960     -0.0278\n",
      "======================================================================================\n",
      "cid    EUR  JPY  USD\n",
      "theta  0.0  0.0  0.0\n"
     ]
    }
   ],
   "source": [
    "X = sm.add_constant(dfx_pan[\"CPIC_SJA_P6M6ML6AR\"])\n",
    "lm_re = RandomEffects(dfx_pan.DU05YXR_VT10, X).fit(cov_type=\"clustered\")\n",
    "print(lm_re.summary)\n",
    "print(lm_re.theta.transpose())"
   ]
  },
  {
   "cell_type": "markdown",
   "metadata": {},
   "source": [
    "Agregar un efecto aleatorio transversal en este ejemplo no cambia mucho los resultados, ya que ninguno de los efectos fijos transversales fue significativo. Podemos usar la función de comparación del módulo para mostrar la salida clave de diferentes modelos de paneles uno al lado del otro."
   ]
  },
  {
   "cell_type": "code",
   "execution_count": 14,
   "metadata": {},
   "outputs": [
    {
     "name": "stdout",
     "output_type": "stream",
     "text": [
      "                                              Model Comparison                                              \n",
      "============================================================================================================\n",
      "                            agrupado Efectos fijos unidireccionales Sección transversal aleatoria específica\n",
      "------------------------------------------------------------------------------------------------------------\n",
      "Dep. Variable           DU05YXR_VT10                   DU05YXR_VT10                             DU05YXR_VT10\n",
      "Estimator                  PooledOLS                      PooledOLS                            RandomEffects\n",
      "No. Observations                 788                            788                                      788\n",
      "Cov. Est.                  Clustered                      Clustered                                Clustered\n",
      "R-squared                     0.0057                         0.0072                                   0.0057\n",
      "R-Squared (Within)            0.0064                         0.0067                                   0.0064\n",
      "R-Squared (Between)          -1.7385                         1.0000                                  -1.7385\n",
      "R-Squared (Overall)           0.0057                         0.0072                                   0.0057\n",
      "F-statistic                   4.4729                         1.8960                                   4.4729\n",
      "P-value (F-stat)              0.0347                         0.1288                                   0.0347\n",
      "===================== ==============                 ==============                          ===============\n",
      "const                         0.5541                         0.7568                                   0.5541\n",
      "                            (3.2359)                       (2.7772)                                 (3.2359)\n",
      "CPIC_SJA_P6M6ML6AR           -0.2119                        -0.2657                                  -0.2119\n",
      "                           (-2.2589)                      (-2.3825)                                (-2.2589)\n",
      "cid_dummy.JPY                                               -0.3592                                         \n",
      "                                                          (-1.1018)                                         \n",
      "cid_dummy.USD                                               -0.0821                                         \n",
      "                                                          (-0.2796)                                         \n",
      "------------------------------------------------------------------------------------------------------------\n",
      "\n",
      "T-stats reported in parentheses\n"
     ]
    }
   ],
   "source": [
    "res = {\n",
    "    \"agrupado\": lm_pooled,\n",
    "    \"Efectos fijos unidireccionales\": sm_fe_cs,\n",
    "    \"Sección transversal aleatoria específica\": lm_re,\n",
    "    }\n",
    "print(compare(res))"
   ]
  },
  {
   "cell_type": "markdown",
   "metadata": {},
   "source": [
    "<h1>Efectos aleatorios específicos del período de tiempo con</h1>"
   ]
  },
  {
   "cell_type": "code",
   "execution_count": 15,
   "metadata": {},
   "outputs": [
    {
     "name": "stdout",
     "output_type": "stream",
     "text": [
      "            Mixed Linear Model Regression Results\n",
      "=============================================================\n",
      "Model:             MixedLM  Dependent Variable:  DU05YXR_VT10\n",
      "No. Observations:  788      Method:              REML        \n",
      "No. Groups:        283      Scale:               4.3548      \n",
      "Min. group size:   2        Log-Likelihood:      -1939.4599  \n",
      "Max. group size:   3        Converged:           Yes         \n",
      "Mean group size:   2.8                                       \n",
      "-------------------------------------------------------------\n",
      "                   Coef.  Std.Err.   z    P>|z| [0.025 0.975]\n",
      "-------------------------------------------------------------\n",
      "const               0.506    0.210  2.409 0.016  0.094  0.917\n",
      "CPIC_SJA_P6M6ML6AR -0.146    0.086 -1.691 0.091 -0.314  0.023\n",
      "Group Var           7.053    0.437                           \n",
      "=============================================================\n",
      "\n"
     ]
    }
   ],
   "source": [
    "y = dfx_pan[\"DU05YXR_VT10\"]\n",
    "X = dfx_pan[\"CPIC_SJA_P6M6ML6AR\"]\n",
    "X = sm.add_constant(X)\n",
    "\n",
    "groups = dfx_pan.reset_index().real_date\n",
    "re = sm.MixedLM(y,X,groups,).fit(reml=True) \n",
    "print(re.summary())"
   ]
  },
  {
   "cell_type": "markdown",
   "metadata": {},
   "source": [
    "Para estimar la importancia de los factores aleatorios necesitamos extraer la escala y la varianza de los efectos aleatorios específicos del período del modelo y simplemente dividir la varianza de los efectos aleatorios específicos del período por la suma de dos varianzas."
   ]
  },
  {
   "cell_type": "code",
   "execution_count": 16,
   "metadata": {},
   "outputs": [
    {
     "name": "stdout",
     "output_type": "stream",
     "text": [
      "61.83% de Varianza atribuible a factores aleatorios tiempo\n",
      "            Group Var\n",
      "2023-04-30   0.428308\n",
      "2023-05-31  -0.194370\n",
      "2023-06-30  -0.711978\n",
      "2023-07-31  -1.648334\n",
      "2023-08-31  -0.328003\n"
     ]
    }
   ],
   "source": [
    "scale=sm.MixedLM(y,X,groups,).get_scale(re.fe_params, re.cov_re_unscaled, re.vcomp)\n",
    "RE_explained=((re.cov_re/(re.cov_re+scale))*100).squeeze().round(2)\n",
    "print (\"{}% de Varianza atribuible a factores aleatorios tiempo\".format(RE_explained))\n",
    "\n",
    "random_effects=pd.DataFrame.from_dict(re.random_effects)\n",
    "random=random_effects.T\n",
    "print(random.tail(5))"
   ]
  },
  {
   "cell_type": "markdown",
   "metadata": {},
   "source": [
    "Para ver cómo es la distribución de los residuos del modelo frente a los valores ajustados, podemos utilizar un diagrama de dispersión."
   ]
  },
  {
   "cell_type": "code",
   "execution_count": 17,
   "metadata": {},
   "outputs": [
    {
     "data": {
      "text/plain": [
       "Text(0, 0.5, 'Residuals')"
      ]
     },
     "execution_count": 17,
     "metadata": {},
     "output_type": "execute_result"
    },
    {
     "data": {
      "image/png": "[encoded data removed]",
      "text/plain": [
       "<Figure size 432x288 with 1 Axes>"
      ]
     },
     "metadata": {
      "needs_background": "light"
     },
     "output_type": "display_data"
    }
   ],
   "source": [
    "sns.scatterplot(x=(dfx_pan[\"DU05YXR_VT10\"] - re.resid), y=re.resid, \n",
    "                   alpha = 0.5).set(title='Residual vs. Fitted')\n",
    "\n",
    "plt.xlabel(\"Fitted Values\")\n",
    "plt.ylabel(\"Residuals\")"
   ]
  },
  {
   "cell_type": "markdown",
   "metadata": {},
   "source": [
    "<h1>Modelo lineal de efectos mixtos</h1>"
   ]
  },
  {
   "cell_type": "markdown",
   "metadata": {},
   "source": [
    "En el primer ejemplo utilizamos las intersecciones del grupo y los coeficientes de pendiente como factores aleatorios. En comparación con el modelo de regresión agrupado anterior, las estimaciones de panel de los coeficientes de intersección y pendiente solo cambian ligeramente, lo que refleja que el poder explicativo de las secciones transversales para los rendimientos de duración mensual es marginal."
   ]
  },
  {
   "cell_type": "code",
   "execution_count": 18,
   "metadata": {},
   "outputs": [
    {
     "name": "stdout",
     "output_type": "stream",
     "text": [
      "                  Mixed Linear Model Regression Results\n",
      "=========================================================================\n",
      "Model:                 MixedLM      Dependent Variable:      DU05YXR_VT10\n",
      "No. Observations:      788          Method:                  REML        \n",
      "No. Groups:            3            Scale:                   11.3263     \n",
      "Min. group size:       222          Log-Likelihood:          -2076.0238  \n",
      "Max. group size:       283          Converged:               No          \n",
      "Mean group size:       262.7                                             \n",
      "-------------------------------------------------------------------------\n",
      "                               Coef.  Std.Err.   z    P>|z| [0.025 0.975]\n",
      "-------------------------------------------------------------------------\n",
      "Intercept                       0.558    0.227  2.459 0.014  0.113  1.002\n",
      "CPIC_SJA_P6M6ML6AR             -0.213    0.150 -1.420 0.156 -0.508  0.081\n",
      "Group Var                       0.002    0.031                           \n",
      "Group x CPIC_SJA_P6M6ML6AR Cov -0.001    0.023                           \n",
      "CPIC_SJA_P6M6ML6AR Var          0.001    0.025                           \n",
      "=========================================================================\n",
      "\n"
     ]
    },
    {
     "name": "stderr",
     "output_type": "stream",
     "text": [
      "/Library/Frameworks/Python.framework/Versions/3.7/lib/python3.7/site-packages/statsmodels/base/model.py:606: ConvergenceWarning: Maximum Likelihood optimization failed to converge. Check mle_retvals\n",
      "  ConvergenceWarning)\n",
      "/Library/Frameworks/Python.framework/Versions/3.7/lib/python3.7/site-packages/statsmodels/regression/mixed_linear_model.py:2202: ConvergenceWarning: Retrying MixedLM optimization with lbfgs\n",
      "  ConvergenceWarning)\n",
      "/Library/Frameworks/Python.framework/Versions/3.7/lib/python3.7/site-packages/statsmodels/base/model.py:606: ConvergenceWarning: Maximum Likelihood optimization failed to converge. Check mle_retvals\n",
      "  ConvergenceWarning)\n",
      "/Library/Frameworks/Python.framework/Versions/3.7/lib/python3.7/site-packages/statsmodels/regression/mixed_linear_model.py:2202: ConvergenceWarning: Retrying MixedLM optimization with cg\n",
      "  ConvergenceWarning)\n",
      "/Library/Frameworks/Python.framework/Versions/3.7/lib/python3.7/site-packages/statsmodels/base/model.py:606: ConvergenceWarning: Maximum Likelihood optimization failed to converge. Check mle_retvals\n",
      "  ConvergenceWarning)\n",
      "/Library/Frameworks/Python.framework/Versions/3.7/lib/python3.7/site-packages/statsmodels/regression/mixed_linear_model.py:2206: ConvergenceWarning: MixedLM optimization failed, trying a different optimizer may help.\n",
      "  warnings.warn(msg, ConvergenceWarning)\n",
      "/Library/Frameworks/Python.framework/Versions/3.7/lib/python3.7/site-packages/statsmodels/regression/mixed_linear_model.py:2218: ConvergenceWarning: Gradient optimization failed, |grad| = 3.113856\n",
      "  warnings.warn(msg, ConvergenceWarning)\n",
      "/Library/Frameworks/Python.framework/Versions/3.7/lib/python3.7/site-packages/statsmodels/regression/mixed_linear_model.py:2237: ConvergenceWarning: The MLE may be on the boundary of the parameter space.\n",
      "  warnings.warn(msg, ConvergenceWarning)\n",
      "/Library/Frameworks/Python.framework/Versions/3.7/lib/python3.7/site-packages/statsmodels/regression/mixed_linear_model.py:2261: ConvergenceWarning: The Hessian matrix at the estimated parameter values is not positive definite.\n",
      "  warnings.warn(msg, ConvergenceWarning)\n"
     ]
    }
   ],
   "source": [
    "groups = dfx_pan.reset_index().cid\n",
    "lmm1 = smf.mixedlm(\"DU05YXR_VT10 ~ CPIC_SJA_P6M6ML6AR\", dfx_pan, groups=groups,\n",
    "                       re_formula=\"1+CPIC_SJA_P6M6ML6AR\").fit()\n",
    "print(lmm1.summary())"
   ]
  },
  {
   "cell_type": "markdown",
   "metadata": {},
   "source": [
    "Ahora podemos derivar intersecciones específicas de secciones transversales y coeficientes de pendiente accediendo al atributo  de random_effects."
   ]
  },
  {
   "cell_type": "code",
   "execution_count": 19,
   "metadata": {},
   "outputs": [
    {
     "name": "stdout",
     "output_type": "stream",
     "text": [
      "                         EUR       JPY       USD\n",
      "Group               0.001998 -0.008272  0.006274\n",
      "CPIC_SJA_P6M6ML6AR -0.000589  0.004068 -0.003479 \n",
      "\n",
      "Los efectos fijos para el modelo lineal de efectos mixtos con cid como factor aleatorio son \n",
      " Intercept             0.557695\n",
      "CPIC_SJA_P6M6ML6AR   -0.213364\n",
      "dtype: float64\n"
     ]
    }
   ],
   "source": [
    "print(pd.DataFrame.from_dict(lmm1.random_effects), \"\\n\")\n",
    "print(\"Los efectos fijos para el modelo lineal de efectos mixtos con cid como factor aleatorio son \\n\", lmm1.fe_params)"
   ]
  },
  {
   "cell_type": "markdown",
   "metadata": {},
   "source": [
    "<h2>Próximos pasos</h2>"
   ]
  },
  {
   "cell_type": "markdown",
   "metadata": {},
   "source": [
    "<ul><li>¿Cómo se comporta con otras monedas?</li>\n",
    "<li>¿Podemos usar otra variable?</li>\n",
    "</ul>"
   ]
  }
 ],
 "metadata": {
  "kernelspec": {
   "display_name": "Python 3",
   "language": "python",
   "name": "python3"
  },
  "language_info": {
   "codemirror_mode": {
    "name": "ipython",
    "version": 3
   },
   "file_extension": ".py",
   "mimetype": "text/x-python",
   "name": "python",
   "nbconvert_exporter": "python",
   "pygments_lexer": "ipython3",
   "version": "3.7.2"
  }
 },
 "nbformat": 4,
 "nbformat_minor": 2
}
